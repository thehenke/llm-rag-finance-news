{
 "cells": [
  {
   "cell_type": "code",
   "execution_count": 5,
   "id": "063b6283-23c9-494b-a0cd-f3887810b4cb",
   "metadata": {},
   "outputs": [],
   "source": [
    "from langchain_google_genai import GoogleGenerativeAIEmbeddings\n",
    "from dotenv import load_dotenv"
   ]
  },
  {
   "cell_type": "code",
   "execution_count": 6,
   "id": "ba3efa51",
   "metadata": {},
   "outputs": [
    {
     "data": {
      "text/plain": [
       "True"
      ]
     },
     "execution_count": 6,
     "metadata": {},
     "output_type": "execute_result"
    }
   ],
   "source": [
    "load_dotenv()"
   ]
  },
  {
   "cell_type": "code",
   "execution_count": 7,
   "id": "c63cebb5-fbbb-43ba-a436-e1ed7dfc6824",
   "metadata": {},
   "outputs": [],
   "source": [
    "class GoogleEmbeddingFunction:\n",
    "    \"\"\"Classe para adaptar GoogleGenerativeAIEmbeddings ao formato esperado pelo LangChain.\"\"\"\n",
    "    def __init__(self, model_name=\"models/text-embedding-004\"):\n",
    "        self.model = GoogleGenerativeAIEmbeddings(model=model_name)\n",
    "\n",
    "    def embed_documents(self, texts):\n",
    "        \"\"\"Gera embeddings para múltiplos documentos.\"\"\"\n",
    "        return [self.model.embed_query(text) for text in texts]\n",
    "\n",
    "    def embed_query(self, text):\n",
    "        \"\"\"Gera embeddings para uma única consulta.\"\"\"\n",
    "        return self.model.embed_query(text)\n",
    "    \n"
   ]
  },
  {
   "cell_type": "code",
   "execution_count": 15,
   "id": "a7f4d9ce",
   "metadata": {},
   "outputs": [],
   "source": [
    "google = GoogleEmbeddingFunction()"
   ]
  },
  {
   "cell_type": "code",
   "execution_count": 37,
   "id": "26af1760",
   "metadata": {},
   "outputs": [],
   "source": [
    "\n",
    "documents = [\n",
    "    \"4. Retrieval and Generation: Retrieve\",\n",
    "    \"Now let’s write the actual application logic. We want to create a simple application that takes a user question, searches for documents relevant to that question, passes the retrieved documents and initial question to a model, and returns an answer.\",\n",
    "    \"First we need to define our logic for searching over documents. LangChain defines a Retriever interface which wraps an index that can return relevant Documents given a string query.\",\n",
    "    \"The most common type of Retriever is the VectorStoreRetriever, which uses the similarity search capabilities of a vector store to facilitate retrieval. Any VectorStore can easily be turned into a Retriever with VectorStore.as_retriever():\"\n",
    "]"
   ]
  },
  {
   "cell_type": "code",
   "execution_count": 38,
   "id": "78eaa01e",
   "metadata": {},
   "outputs": [],
   "source": [
    "embeddings_docs=google.embed_documents(documents)"
   ]
  },
  {
   "cell_type": "code",
   "execution_count": 47,
   "id": "a6af8336",
   "metadata": {},
   "outputs": [],
   "source": [
    "query = \"the most commom type of Retriever and search capabilities\""
   ]
  },
  {
   "cell_type": "code",
   "execution_count": 48,
   "id": "e60aea7a",
   "metadata": {},
   "outputs": [],
   "source": [
    "embedding_query = google.embed_query(query)"
   ]
  },
  {
   "cell_type": "code",
   "execution_count": 49,
   "id": "55b5e256",
   "metadata": {},
   "outputs": [],
   "source": [
    "def cosine_similarity(vec1, vec2):\n",
    "    \"\"\"Calcula a similaridade do cosseno entre dois vetores.\"\"\"\n",
    "    vec1 = [float(x) for x in vec1]  # Garante que todos os elementos sejam float\n",
    "    vec2 = [float(x) for x in vec2]\n",
    "\n",
    "    dot_product = sum(a * b for a, b in zip(vec1, vec2))\n",
    "    norm_vec1 = sum(a ** 2 for a in vec1) ** 0.5\n",
    "    norm_vec2 = sum(b ** 2 for b in vec2) ** 0.5\n",
    "\n",
    "    if norm_vec1 == 0 or norm_vec2 == 0:\n",
    "        return 0  # Evita divisão por zero\n",
    "\n",
    "    return dot_product / (norm_vec1 * norm_vec2)"
   ]
  },
  {
   "cell_type": "code",
   "execution_count": 50,
   "id": "d7a84ebd",
   "metadata": {},
   "outputs": [
    {
     "name": "stdout",
     "output_type": "stream",
     "text": [
      "[0.5122531594068312, 0.35609404988662946, 0.4548649893726172, 0.5556514022787851]\n"
     ]
    }
   ],
   "source": [
    "def compare_embeddings(reference_embedding, embeddings_list):\n",
    "    \"\"\"Compara um embedding de referência com uma lista de embeddings e retorna os scores.\"\"\"\n",
    "    scores = [cosine_similarity(reference_embedding, emb) for emb in embeddings_list]\n",
    "    return scores\n",
    "\n",
    "\n",
    "print(compare_embeddings(embedding_query, embeddings_docs))"
   ]
  }
 ],
 "metadata": {
  "kernelspec": {
   "display_name": "env",
   "language": "python",
   "name": "python3"
  },
  "language_info": {
   "codemirror_mode": {
    "name": "ipython",
    "version": 3
   },
   "file_extension": ".py",
   "mimetype": "text/x-python",
   "name": "python",
   "nbconvert_exporter": "python",
   "pygments_lexer": "ipython3",
   "version": "3.12.1"
  }
 },
 "nbformat": 4,
 "nbformat_minor": 5
}
