{
 "cells": [
  {
   "cell_type": "code",
   "execution_count": 7,
   "id": "063b6283-23c9-494b-a0cd-f3887810b4cb",
   "metadata": {},
   "outputs": [],
   "source": [
    "from langchain_community.llms import Ollama\n",
    "llm = Ollama(model=\"llama3.2:latest\")"
   ]
  },
  {
   "cell_type": "code",
   "execution_count": 8,
   "id": "c63cebb5-fbbb-43ba-a436-e1ed7dfc6824",
   "metadata": {},
   "outputs": [
    {
     "data": {
      "text/plain": [
       "\"Langsmith is a Python library that helps with testing by providing a simple and intuitive way to write tests for your code. Here are some ways Langsmith can help with testing:\\n\\n1. **Simple syntax**: Langsmith uses a simple syntax to define tests, making it easy to write and maintain tests.\\n2. **Automatic setup/teardown**: Langsmith automatically sets up and tears down test environments, reducing the need for manual boilerplate code.\\n3. **Test isolation**: Langsmith provides a way to isolate tests from each other, ensuring that each test runs independently without affecting others.\\n4. **Parameterized testing**: Langsmith supports parameterized testing, allowing you to run the same test multiple times with different inputs.\\n5. **Debugging tools**: Langsmith includes debugging tools that help you identify where your tests are failing, such as line-by-line execution and test failure analysis.\\n\\nSome specific ways Langsmith can improve testing include:\\n\\n* Reducing test maintenance time: With Langsmith's simple syntax and automatic setup/teardown, you can write tests more quickly and easily.\\n* Increasing test coverage: By providing a way to run parameterized tests, Langsmith helps ensure that your code is tested thoroughly.\\n* Improving debugging: Langsmith's built-in debugging tools make it easier to identify where tests are failing.\\n\\nOverall, Langsmith is designed to simplify the testing process and make it easier to write reliable, efficient, and effective tests for your Python code.\""
      ]
     },
     "execution_count": 8,
     "metadata": {},
     "output_type": "execute_result"
    }
   ],
   "source": [
    "llm.invoke(\"how can langsmith help with testing?\")\n"
   ]
  },
  {
   "cell_type": "code",
   "execution_count": 1,
   "id": "5843284a-6afc-4284-ab19-7215cd2520f5",
   "metadata": {},
   "outputs": [
    {
     "name": "stdout",
     "output_type": "stream",
     "text": [
      "oi\n"
     ]
    }
   ],
   "source": []
  }
 ],
 "metadata": {
  "kernelspec": {
   "display_name": "env",
   "language": "python",
   "name": "python3"
  },
  "language_info": {
   "codemirror_mode": {
    "name": "ipython",
    "version": 3
   },
   "file_extension": ".py",
   "mimetype": "text/x-python",
   "name": "python",
   "nbconvert_exporter": "python",
   "pygments_lexer": "ipython3",
   "version": "3.12.1"
  }
 },
 "nbformat": 4,
 "nbformat_minor": 5
}
