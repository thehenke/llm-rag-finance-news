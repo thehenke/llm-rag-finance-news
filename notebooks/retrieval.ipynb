{
 "cells": [
  {
   "cell_type": "code",
   "execution_count": null,
   "metadata": {},
   "outputs": [
    {
     "name": "stdout",
     "output_type": "stream",
     "text": [
      "['este', 'exemplo', 'pré-processamento', 'texto', 'bibliotecas', \"let's\", 'test', 'english']\n"
     ]
    }
   ],
   "source": [
    "import string\n",
    "import re\n",
    "\n",
    "STOPWORDS = {\n",
    "    \"a\", \"ao\", \"aos\", \"as\", \"até\", \"com\", \"como\", \"da\", \"das\", \"de\", \"do\", \"dos\", \"e\", \"em\", \"entre\",\n",
    "    \"é\", \"era\", \"eram\", \"essa\", \"esse\", \"esta\", \"estamos\", \"estão\", \"eu\", \"foi\", \"foram\", \"isso\", \"lhe\",\n",
    "    \"me\", \"mesmo\", \"minha\", \"muito\", \"na\", \"não\", \"nas\", \"nem\", \"no\", \"nos\", \"nós\", \"o\", \"os\", \"ou\",\n",
    "    \"para\", \"pela\", \"pelas\", \"pelo\", \"pelos\", \"por\", \"porque\", \"que\", \"se\", \"sem\", \"seu\", \"sua\",\n",
    "    \"são\", \"também\", \"te\", \"tem\", \"tinha\", \"todos\", \"tudo\", \"um\", \"uma\", \"você\",\n",
    "    # Stopwords em inglês\n",
    "    \"i\", \"me\", \"my\", \"myself\", \"we\", \"our\", \"ours\", \"ourselves\", \"you\", \"your\", \"yours\", \"yourself\",\n",
    "    \"yourselves\", \"he\", \"him\", \"his\", \"himself\", \"she\", \"her\", \"hers\", \"herself\", \"it\", \"its\", \"itself\",\n",
    "    \"they\", \"them\", \"their\", \"theirs\", \"themselves\", \"what\", \"which\", \"who\", \"whom\", \"this\", \"that\",\n",
    "    \"these\", \"those\", \"am\", \"is\", \"are\", \"was\", \"were\", \"be\", \"been\", \"being\", \"have\", \"has\", \"had\",\n",
    "    \"having\", \"do\", \"does\", \"did\", \"doing\", \"a\", \"an\", \"the\", \"and\", \"but\", \"if\", \"or\", \"because\", \"as\",\n",
    "    \"until\", \"while\", \"of\", \"at\", \"by\", \"for\", \"with\", \"about\", \"against\", \"between\", \"into\", \"through\",\n",
    "    \"during\", \"before\", \"after\", \"above\", \"below\", \"to\", \"from\", \"up\", \"down\", \"in\", \"out\", \"on\", \"off\",\n",
    "    \"over\", \"under\", \"again\", \"further\", \"then\", \"once\", \"here\", \"there\", \"when\", \"where\", \"why\", \"how\",\n",
    "    \"all\", \"any\", \"both\", \"each\", \"few\", \"more\", \"most\", \"other\", \"some\", \"such\", \"only\", \"own\", \"same\",\n",
    "    \"so\", \"than\", \"too\", \"very\", \"can\", \"will\", \"just\", \"should\", \"now\", \"let\"\n",
    "}\n",
    "\n",
    "def word_tokenize(text):\n",
    "\n",
    "    text = text.lower()\n",
    "\n",
    "    text = re.sub(r\"[{}]+\".format(re.escape(string.punctuation.replace(\"'\", \"\").replace(\"-\", \"\"))), \" \", text)\n",
    "\n",
    "    tokens = re.findall(r\"\\b\\w+(?:[-']\\w+)*\\b\", text)\n",
    "\n",
    "    tokens = [word for word in tokens if word not in STOPWORDS]\n",
    "\n",
    "    return tokens\n",
    "\n",
    "# Exemplo de uso:\n",
    "texto = \"Este é um exemplo de pré-processamento de texto sem bibliotecas! Let's test in English too.\"\n",
    "tokens_limpos = word_tokenize(texto)\n",
    "print(tokens_limpos)\n"
   ]
  }
 ],
 "metadata": {
  "kernelspec": {
   "display_name": "env",
   "language": "python",
   "name": "python3"
  },
  "language_info": {
   "codemirror_mode": {
    "name": "ipython",
    "version": 3
   },
   "file_extension": ".py",
   "mimetype": "text/x-python",
   "name": "python",
   "nbconvert_exporter": "python",
   "pygments_lexer": "ipython3",
   "version": "3.12.1"
  }
 },
 "nbformat": 4,
 "nbformat_minor": 2
}
